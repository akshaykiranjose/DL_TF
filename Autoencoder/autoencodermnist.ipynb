{
 "cells": [
  {
   "cell_type": "code",
   "execution_count": null,
   "metadata": {
    "id": "pvhbre079K4P"
   },
   "outputs": [],
   "source": [
    "import tensorflow as tf\n",
    "from tensorflow import keras\n",
    "import numpy as np"
   ]
  },
  {
   "cell_type": "code",
   "execution_count": null,
   "metadata": {
    "id": "_pcUNuVw9vQo"
   },
   "outputs": [],
   "source": [
    "(x_train, y_train),(x_test, y_test) = tf.keras.datasets.mnist.load_data()  # loads the popular \"mnist\" training dataset\n",
    "\n",
    "x_train = x_train/255.0  # scales the data. pixel values range from 0 to 255, so this makes it range 0 to 1\n",
    "x_test = x_test/255.0  # scales the data. pixel values range from 0 to 255, so this makes it range 0 to 1"
   ]
  },
  {
   "cell_type": "code",
   "execution_count": null,
   "metadata": {
    "colab": {
     "base_uri": "https://localhost:8080/",
     "height": 282
    },
    "id": "2yfR1bPXgOIA",
    "outputId": "9b26e18b-3cd5-4c94-d58b-68a85db9d1bf"
   },
   "outputs": [
    {
     "data": {
      "text/plain": [
       "<matplotlib.image.AxesImage at 0x7f6c3db22450>"
      ]
     },
     "execution_count": 3,
     "metadata": {},
     "output_type": "execute_result"
    },
    {
     "data": {
      "image/png": "[encoded data removed]",
      "text/plain": [
       "<Figure size 432x288 with 1 Axes>"
      ]
     },
     "metadata": {
      "needs_background": "light"
     },
     "output_type": "display_data"
    }
   ],
   "source": [
    "import matplotlib.pyplot as plt\n",
    "\n",
    "plt.imshow(x_train[1], cmap = 'gray')"
   ]
  },
  {
   "cell_type": "code",
   "execution_count": null,
   "metadata": {
    "colab": {
     "base_uri": "https://localhost:8080/"
    },
    "id": "K0ASPcRvpUEK",
    "outputId": "e68c60fe-672d-4e1b-d746-ee18ff339313"
   },
   "outputs": [
    {
     "data": {
      "text/plain": [
       "(60000, 28, 28)"
      ]
     },
     "execution_count": 4,
     "metadata": {},
     "output_type": "execute_result"
    }
   ],
   "source": [
    "x_train.shape"
   ]
  },
  {
   "cell_type": "code",
   "execution_count": null,
   "metadata": {
    "id": "VbTjXM3_gN0J"
   },
   "outputs": [],
   "source": [
    "encoder_input = keras.Input(shape = (28,28,1,1), name = 'img')\n",
    "enc_flat = keras.layers.Flatten()(encoder_input)\n",
    "encoder_output = keras.layers.Dense(64,activation = 'relu')(enc_flat)"
   ]
  },
  {
   "cell_type": "code",
   "execution_count": null,
   "metadata": {
    "id": "BD1EbqcXiHu2"
   },
   "outputs": [],
   "source": [
    "encoder = keras.Model(encoder_input, encoder_output, name = 'encoder')"
   ]
  },
  {
   "cell_type": "code",
   "execution_count": null,
   "metadata": {
    "id": "tRn4Uag3gNqy"
   },
   "outputs": [],
   "source": [
    "dec_interim = keras.layers.Dense(784, activation = 'relu')(encoder_output)\n",
    "decoder_output = keras.layers.Reshape(target_shape = (28,28,1))(dec_interim)"
   ]
  },
  {
   "cell_type": "code",
   "execution_count": null,
   "metadata": {
    "id": "eRlhmCqf05ql"
   },
   "outputs": [],
   "source": [
    "decoder = keras.Model(encoder_output, decoder_output, name = 'decoder')"
   ]
  },
  {
   "cell_type": "code",
   "execution_count": null,
   "metadata": {
    "id": "8B00v1qclWq4"
   },
   "outputs": [],
   "source": [
    "opt = keras.optimizers.Adam(learning_rate = 0.001, decay = 1e-6)"
   ]
  },
  {
   "cell_type": "code",
   "execution_count": null,
   "metadata": {
    "id": "_piStIM1mGpI"
   },
   "outputs": [],
   "source": [
    "autoencoder = keras.Model(encoder_input, decoder_output, name = 'autoencoder')"
   ]
  },
  {
   "cell_type": "code",
   "execution_count": null,
   "metadata": {
    "colab": {
     "base_uri": "https://localhost:8080/"
    },
    "id": "2NkS_l6vmGcy",
    "outputId": "9709d615-cbf8-47a4-c2bf-4a8b873b7194"
   },
   "outputs": [
    {
     "name": "stdout",
     "output_type": "stream",
     "text": [
      "Model: \"autoencoder\"\n",
      "_________________________________________________________________\n",
      " Layer (type)                Output Shape              Param #   \n",
      "=================================================================\n",
      " img (InputLayer)            [(None, 28, 28, 1, 1)]    0         \n",
      "                                                                 \n",
      " flatten (Flatten)           (None, 784)               0         \n",
      "                                                                 \n",
      " dense (Dense)               (None, 64)                50240     \n",
      "                                                                 \n",
      " dense_1 (Dense)             (None, 784)               50960     \n",
      "                                                                 \n",
      " reshape (Reshape)           (None, 28, 28, 1)         0         \n",
      "                                                                 \n",
      "=================================================================\n",
      "Total params: 101,200\n",
      "Trainable params: 101,200\n",
      "Non-trainable params: 0\n",
      "_________________________________________________________________\n"
     ]
    }
   ],
   "source": [
    "autoencoder.summary()"
   ]
  },
  {
   "cell_type": "code",
   "execution_count": null,
   "metadata": {
    "id": "s6FiYzSJr34M"
   },
   "outputs": [],
   "source": [
    "autoencoder.compile(opt, loss='mse')"
   ]
  },
  {
   "cell_type": "code",
   "execution_count": null,
   "metadata": {
    "colab": {
     "base_uri": "https://localhost:8080/"
    },
    "id": "eJsmfdolmGTn",
    "outputId": "6e917b7d-cd12-4168-b548-a8f436c0add5"
   },
   "outputs": [
    {
     "name": "stdout",
     "output_type": "stream",
     "text": [
      "Epoch 1/3\n",
      "WARNING:tensorflow:Model was constructed with shape (None, 28, 28, 1, 1) for input KerasTensor(type_spec=TensorSpec(shape=(None, 28, 28, 1, 1), dtype=tf.float32, name='img'), name='img', description=\"created by layer 'img'\"), but it was called on an input with incompatible shape (None, 28, 28).\n",
      "WARNING:tensorflow:Model was constructed with shape (None, 28, 28, 1, 1) for input KerasTensor(type_spec=TensorSpec(shape=(None, 28, 28, 1, 1), dtype=tf.float32, name='img'), name='img', description=\"created by layer 'img'\"), but it was called on an input with incompatible shape (None, 28, 28).\n",
      "1678/1688 [============================>.] - ETA: 0s - loss: 0.0173WARNING:tensorflow:Model was constructed with shape (None, 28, 28, 1, 1) for input KerasTensor(type_spec=TensorSpec(shape=(None, 28, 28, 1, 1), dtype=tf.float32, name='img'), name='img', description=\"created by layer 'img'\"), but it was called on an input with incompatible shape (None, 28, 28).\n",
      "1688/1688 [==============================] - 9s 5ms/step - loss: 0.0172 - val_loss: 0.0113\n",
      "Epoch 2/3\n",
      "1688/1688 [==============================] - 5s 3ms/step - loss: 0.0108 - val_loss: 0.0105\n",
      "Epoch 3/3\n",
      "1688/1688 [==============================] - 4s 2ms/step - loss: 0.0103 - val_loss: 0.0102\n"
     ]
    },
    {
     "data": {
      "text/plain": [
       "<keras.callbacks.History at 0x7f6c3982e4d0>"
      ]
     },
     "execution_count": 13,
     "metadata": {},
     "output_type": "execute_result"
    }
   ],
   "source": [
    "autoencoder.fit(x_train, x_train, epochs = 3, batch_size = 32, validation_split = 0.1)"
   ]
  },
  {
   "cell_type": "code",
   "execution_count": null,
   "metadata": {
    "colab": {
     "base_uri": "https://localhost:8080/",
     "height": 310
    },
    "id": "e4nhRrm8mGL4",
    "outputId": "87ea1198-7f85-47a5-ea94-d7a7a2fc66bc"
   },
   "outputs": [
    {
     "data": {
      "text/plain": [
       "<matplotlib.image.AxesImage at 0x7f6c360eefd0>"
      ]
     },
     "execution_count": 14,
     "metadata": {},
     "output_type": "execute_result"
    },
    {
     "data": {
      "text/plain": [
       "<Figure size 432x288 with 0 Axes>"
      ]
     },
     "metadata": {},
     "output_type": "display_data"
    },
    {
     "data": {
      "image/png": "[encoded data removed]",
      "text/plain": [
       "<Figure size 288x288 with 1 Axes>"
      ]
     },
     "metadata": {
      "needs_background": "light"
     },
     "output_type": "display_data"
    }
   ],
   "source": [
    "plt.gray()\n",
    "plt.matshow(x_test[5])"
   ]
  },
  {
   "cell_type": "code",
   "execution_count": null,
   "metadata": {
    "id": "U-EZUP1omGDn"
   },
   "outputs": [],
   "source": [
    "en_out = encoder.predict([x_test[5].reshape(-1, 28, 28, 1)])"
   ]
  },
  {
   "cell_type": "code",
   "execution_count": null,
   "metadata": {
    "colab": {
     "base_uri": "https://localhost:8080/",
     "height": 292
    },
    "id": "UGyR7Whjwg6L",
    "outputId": "2b296d6e-59e8-485c-9374-a9e369793744"
   },
   "outputs": [
    {
     "data": {
      "text/plain": [
       "<matplotlib.image.AxesImage at 0x7f6c35059910>"
      ]
     },
     "execution_count": 16,
     "metadata": {},
     "output_type": "execute_result"
    },
    {
     "data": {
      "image/png": "[encoded data removed]",
      "text/plain": [
       "<Figure size 288x288 with 1 Axes>"
      ]
     },
     "metadata": {
      "needs_background": "light"
     },
     "output_type": "display_data"
    }
   ],
   "source": [
    "plt.matshow(en_out[0].reshape(8,8))"
   ]
  },
  {
   "cell_type": "code",
   "execution_count": null,
   "metadata": {
    "id": "TAhZvDiUFsUc"
   },
   "outputs": [],
   "source": [
    "dec_out = decoder.predict(en_out[0].reshape(-1,64))"
   ]
  },
  {
   "cell_type": "code",
   "execution_count": null,
   "metadata": {
    "colab": {
     "base_uri": "https://localhost:8080/",
     "height": 292
    },
    "id": "p7_8GWDgGElK",
    "outputId": "c26c3c16-f4b2-461c-eeb3-967a27914a3a"
   },
   "outputs": [
    {
     "data": {
      "text/plain": [
       "<matplotlib.image.AxesImage at 0x7f6c39689890>"
      ]
     },
     "execution_count": 18,
     "metadata": {},
     "output_type": "execute_result"
    },
    {
     "data": {
      "image/png": "[encoded data removed]",
      "text/plain": [
       "<Figure size 288x288 with 1 Axes>"
      ]
     },
     "metadata": {
      "needs_background": "light"
     },
     "output_type": "display_data"
    }
   ],
   "source": [
    "plt.matshow(dec_out.reshape(28,28))"
   ]
  },
  {
   "cell_type": "code",
   "execution_count": null,
   "metadata": {
    "id": "sCufjmNW0fBk"
   },
   "outputs": [],
   "source": [
    "ae_out = autoencoder.predict([x_test[0].reshape(-1, 28, 28, 1)])"
   ]
  },
  {
   "cell_type": "code",
   "execution_count": null,
   "metadata": {
    "colab": {
     "base_uri": "https://localhost:8080/"
    },
    "id": "72MdSyUpGOPx",
    "outputId": "19a8b740-82fd-4524-dca2-69d53595bf64"
   },
   "outputs": [
    {
     "data": {
      "text/plain": [
       "(1, 28, 28, 1)"
      ]
     },
     "execution_count": 20,
     "metadata": {},
     "output_type": "execute_result"
    }
   ],
   "source": [
    "ae_out.shape"
   ]
  }
 ],
 "metadata": {
  "colab": {
   "collapsed_sections": [],
   "name": "autoencoder_yt_mnist.ipynb",
   "provenance": []
  },
  "kernelspec": {
   "display_name": "Python 3 (ipykernel)",
   "language": "python",
   "name": "python3"
  },
  "language_info": {
   "codemirror_mode": {
    "name": "ipython",
    "version": 3
   },
   "file_extension": ".py",
   "mimetype": "text/x-python",
   "name": "python",
   "nbconvert_exporter": "python",
   "pygments_lexer": "ipython3",
   "version": "3.9.7"
  }
 },
 "nbformat": 4,
 "nbformat_minor": 1
}
