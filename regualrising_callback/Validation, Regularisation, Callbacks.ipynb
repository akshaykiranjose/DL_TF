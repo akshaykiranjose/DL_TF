{
 "cells": [
  {
   "cell_type": "code",
   "execution_count": 1,
   "metadata": {
    "scrolled": true
   },
   "outputs": [
    {
     "name": "stdout",
     "output_type": "stream",
     "text": [
      "2.9.0\n"
     ]
    }
   ],
   "source": [
    "import tensorflow as tf\n",
    "print(tf.__version__)"
   ]
  },
  {
   "cell_type": "markdown",
   "metadata": {},
   "source": [
    "# Validation, regularisation and callbacks"
   ]
  },
  {
   "cell_type": "markdown",
   "metadata": {},
   "source": [
    "***\n",
    "<a id=\"coding_tutorial_1\"></a>\n",
    "## Validation sets"
   ]
  },
  {
   "cell_type": "markdown",
   "metadata": {},
   "source": [
    "#### Load the data"
   ]
  },
  {
   "cell_type": "code",
   "execution_count": 2,
   "metadata": {},
   "outputs": [],
   "source": [
    "# Load the diabetes dataset\n",
    "from sklearn.datasets import load_diabetes\n",
    "\n",
    "diabetes_dataset = load_diabetes()"
   ]
  },
  {
   "cell_type": "code",
   "execution_count": 3,
   "metadata": {
    "scrolled": true
   },
   "outputs": [
    {
     "name": "stdout",
     "output_type": "stream",
     "text": [
      ".. _diabetes_dataset:\n",
      "\n",
      "Diabetes dataset\n",
      "----------------\n",
      "\n",
      "Ten baseline variables, age, sex, body mass index, average blood\n",
      "pressure, and six blood serum measurements were obtained for each of n =\n",
      "442 diabetes patients, as well as the response of interest, a\n",
      "quantitative measure of disease progression one year after baseline.\n",
      "\n",
      "**Data Set Characteristics:**\n",
      "\n",
      "  :Number of Instances: 442\n",
      "\n",
      "  :Number of Attributes: First 10 columns are numeric predictive values\n",
      "\n",
      "  :Target: Column 11 is a quantitative measure of disease progression one year after baseline\n",
      "\n",
      "  :Attribute Information:\n",
      "      - age     age in years\n",
      "      - sex\n",
      "      - bmi     body mass index\n",
      "      - bp      average blood pressure\n",
      "      - s1      tc, total serum cholesterol\n",
      "      - s2      ldl, low-density lipoproteins\n",
      "      - s3      hdl, high-density lipoproteins\n",
      "      - s4      tch, total cholesterol / HDL\n",
      "      - s5      ltg, possibly log of serum triglycerides level\n",
      "      - s6      glu, blood sugar level\n",
      "\n",
      "Note: Each of these 10 feature variables have been mean centered and scaled by the standard deviation times `n_samples` (i.e. the sum of squares of each column totals 1).\n",
      "\n",
      "Source URL:\n",
      "https://www4.stat.ncsu.edu/~boos/var.select/diabetes.html\n",
      "\n",
      "For more information see:\n",
      "Bradley Efron, Trevor Hastie, Iain Johnstone and Robert Tibshirani (2004) \"Least Angle Regression,\" Annals of Statistics (with discussion), 407-499.\n",
      "(https://web.stanford.edu/~hastie/Papers/LARS/LeastAngle_2002.pdf)\n"
     ]
    }
   ],
   "source": [
    "print(diabetes_dataset['DESCR'])"
   ]
  },
  {
   "cell_type": "code",
   "execution_count": 4,
   "metadata": {},
   "outputs": [],
   "source": [
    "# Save the input and target variables\n",
    "\n",
    "X = diabetes_dataset['data'];\n",
    "y = diabetes_dataset['target']"
   ]
  },
  {
   "cell_type": "code",
   "execution_count": 5,
   "metadata": {},
   "outputs": [],
   "source": [
    "# Normalise the target data (this will make clearer training curves)\n",
    "import numpy as np\n",
    "mean_y = np.mean(y)\n",
    "std_y = np.std(y)\n",
    "\n",
    "y = (y - mean_y)/ std_y"
   ]
  },
  {
   "cell_type": "code",
   "execution_count": 6,
   "metadata": {},
   "outputs": [
    {
     "data": {
      "text/plain": [
       "(-1.6509610124214391, 2.5175590944313466)"
      ]
     },
     "execution_count": 6,
     "metadata": {},
     "output_type": "execute_result"
    }
   ],
   "source": [
    "y.min(), y.max()"
   ]
  },
  {
   "cell_type": "code",
   "execution_count": 7,
   "metadata": {},
   "outputs": [
    {
     "name": "stdout",
     "output_type": "stream",
     "text": [
      "(397, 10)\n",
      "(397,)\n"
     ]
    }
   ],
   "source": [
    "# Split the data into train and test sets\n",
    "from sklearn.model_selection import train_test_split\n",
    "X_train, X_test, y_train, y_test = train_test_split(X, y, test_size=0.1, random_state=42)\n",
    "\n",
    "print(X_train.shape)\n",
    "print(y_train.shape)"
   ]
  },
  {
   "cell_type": "markdown",
   "metadata": {},
   "source": [
    "#### Train a feedforward neural network model"
   ]
  },
  {
   "cell_type": "code",
   "execution_count": 11,
   "metadata": {},
   "outputs": [],
   "source": [
    "# Build the model\n",
    "from tensorflow.keras.models import Sequential\n",
    "from tensorflow.keras.layers import Dense\n",
    "\n",
    "def get_model():\n",
    "    model = Sequential([\n",
    "        Dense(128, activation=\"relu\", input_shape=(X_train.shape[1],)),\n",
    "        Dense(128, activation=\"relu\"),\n",
    "        Dense(128, activation=\"relu\"),\n",
    "        Dense(128, activation=\"relu\"),\n",
    "        Dense(128, activation=\"relu\"),\n",
    "        Dense(128, activation=\"relu\"),\n",
    "        Dense(1)\n",
    "    ])\n",
    "    return model\n",
    "\n",
    "model = get_model()"
   ]
  },
  {
   "cell_type": "code",
   "execution_count": 12,
   "metadata": {},
   "outputs": [
    {
     "name": "stdout",
     "output_type": "stream",
     "text": [
      "Model: \"sequential_2\"\n",
      "_________________________________________________________________\n",
      " Layer (type)                Output Shape              Param #   \n",
      "=================================================================\n",
      " dense_13 (Dense)            (None, 128)               1408      \n",
      "                                                                 \n",
      " dense_14 (Dense)            (None, 128)               16512     \n",
      "                                                                 \n",
      " dense_15 (Dense)            (None, 128)               16512     \n",
      "                                                                 \n",
      " dense_16 (Dense)            (None, 128)               16512     \n",
      "                                                                 \n",
      " dense_17 (Dense)            (None, 128)               16512     \n",
      "                                                                 \n",
      " dense_18 (Dense)            (None, 128)               16512     \n",
      "                                                                 \n",
      " dense_19 (Dense)            (None, 1)                 129       \n",
      "                                                                 \n",
      "=================================================================\n",
      "Total params: 84,097\n",
      "Trainable params: 84,097\n",
      "Non-trainable params: 0\n",
      "_________________________________________________________________\n"
     ]
    }
   ],
   "source": [
    "# Print the model summary\n",
    "\n",
    "model.summary()"
   ]
  },
  {
   "cell_type": "code",
   "execution_count": 13,
   "metadata": {},
   "outputs": [],
   "source": [
    "# Compile the model\n",
    "from tensorflow.keras.losses import MeanSquaredError as mse\n",
    "from tensorflow.keras.optimizers import Adam\n",
    "from tensorflow.keras.metrics import MeanAbsoluteError as mae\n",
    "\n",
    "model.compile(optimizer = Adam(), loss = mse(), metrics = [mae()])"
   ]
  },
  {
   "cell_type": "code",
   "execution_count": 14,
   "metadata": {
    "scrolled": true
   },
   "outputs": [
    {
     "name": "stdout",
     "output_type": "stream",
     "text": [
      "Epoch 1/75\n",
      "11/11 [==============================] - 2s 42ms/step - loss: 0.9757 - mean_absolute_error: 0.8503 - val_loss: 0.7712 - val_mean_absolute_error: 0.7402\n",
      "Epoch 2/75\n",
      "11/11 [==============================] - 0s 7ms/step - loss: 0.7067 - mean_absolute_error: 0.7290 - val_loss: 0.5866 - val_mean_absolute_error: 0.6244\n",
      "Epoch 3/75\n",
      "11/11 [==============================] - 0s 8ms/step - loss: 0.5365 - mean_absolute_error: 0.5855 - val_loss: 0.5932 - val_mean_absolute_error: 0.6276\n",
      "Epoch 4/75\n",
      "11/11 [==============================] - 0s 10ms/step - loss: 0.4947 - mean_absolute_error: 0.5811 - val_loss: 0.6077 - val_mean_absolute_error: 0.6446\n",
      "Epoch 5/75\n",
      "11/11 [==============================] - 0s 8ms/step - loss: 0.4759 - mean_absolute_error: 0.5662 - val_loss: 0.5942 - val_mean_absolute_error: 0.6206\n",
      "Epoch 6/75\n",
      "11/11 [==============================] - 0s 7ms/step - loss: 0.4690 - mean_absolute_error: 0.5521 - val_loss: 0.5725 - val_mean_absolute_error: 0.6025\n",
      "Epoch 7/75\n",
      "11/11 [==============================] - 0s 8ms/step - loss: 0.4669 - mean_absolute_error: 0.5415 - val_loss: 0.6487 - val_mean_absolute_error: 0.6317\n",
      "Epoch 8/75\n",
      "11/11 [==============================] - 0s 10ms/step - loss: 0.4430 - mean_absolute_error: 0.5353 - val_loss: 0.5859 - val_mean_absolute_error: 0.6258\n",
      "Epoch 9/75\n",
      "11/11 [==============================] - 0s 8ms/step - loss: 0.4401 - mean_absolute_error: 0.5343 - val_loss: 0.5946 - val_mean_absolute_error: 0.6166\n",
      "Epoch 10/75\n",
      "11/11 [==============================] - 0s 8ms/step - loss: 0.4401 - mean_absolute_error: 0.5278 - val_loss: 0.5739 - val_mean_absolute_error: 0.6086\n",
      "Epoch 11/75\n",
      "11/11 [==============================] - 0s 8ms/step - loss: 0.4232 - mean_absolute_error: 0.5169 - val_loss: 0.5802 - val_mean_absolute_error: 0.6139\n",
      "Epoch 12/75\n",
      "11/11 [==============================] - 0s 11ms/step - loss: 0.4090 - mean_absolute_error: 0.5133 - val_loss: 0.6302 - val_mean_absolute_error: 0.6314\n",
      "Epoch 13/75\n",
      "11/11 [==============================] - 0s 8ms/step - loss: 0.4085 - mean_absolute_error: 0.5082 - val_loss: 0.5746 - val_mean_absolute_error: 0.6103\n",
      "Epoch 14/75\n",
      "11/11 [==============================] - 0s 9ms/step - loss: 0.3970 - mean_absolute_error: 0.5051 - val_loss: 0.6083 - val_mean_absolute_error: 0.6154\n",
      "Epoch 15/75\n",
      "11/11 [==============================] - 0s 8ms/step - loss: 0.3968 - mean_absolute_error: 0.4909 - val_loss: 0.5901 - val_mean_absolute_error: 0.6220\n",
      "Epoch 16/75\n",
      "11/11 [==============================] - 0s 8ms/step - loss: 0.3910 - mean_absolute_error: 0.5021 - val_loss: 0.6403 - val_mean_absolute_error: 0.6244\n",
      "Epoch 17/75\n",
      "11/11 [==============================] - 0s 8ms/step - loss: 0.4008 - mean_absolute_error: 0.5022 - val_loss: 0.5989 - val_mean_absolute_error: 0.6194\n",
      "Epoch 18/75\n",
      "11/11 [==============================] - 0s 8ms/step - loss: 0.3914 - mean_absolute_error: 0.4998 - val_loss: 0.6340 - val_mean_absolute_error: 0.6229\n",
      "Epoch 19/75\n",
      "11/11 [==============================] - 0s 8ms/step - loss: 0.4019 - mean_absolute_error: 0.5090 - val_loss: 0.6100 - val_mean_absolute_error: 0.6135\n",
      "Epoch 20/75\n",
      "11/11 [==============================] - 0s 7ms/step - loss: 0.3865 - mean_absolute_error: 0.4953 - val_loss: 0.6038 - val_mean_absolute_error: 0.6094\n",
      "Epoch 21/75\n",
      "11/11 [==============================] - 0s 8ms/step - loss: 0.3542 - mean_absolute_error: 0.4668 - val_loss: 0.6004 - val_mean_absolute_error: 0.6072\n",
      "Epoch 22/75\n",
      "11/11 [==============================] - 0s 7ms/step - loss: 0.3222 - mean_absolute_error: 0.4523 - val_loss: 0.5953 - val_mean_absolute_error: 0.6045\n",
      "Epoch 23/75\n",
      "11/11 [==============================] - 0s 8ms/step - loss: 0.3206 - mean_absolute_error: 0.4421 - val_loss: 0.5919 - val_mean_absolute_error: 0.6093\n",
      "Epoch 24/75\n",
      "11/11 [==============================] - 0s 7ms/step - loss: 0.2970 - mean_absolute_error: 0.4265 - val_loss: 0.5959 - val_mean_absolute_error: 0.6057\n",
      "Epoch 25/75\n",
      "11/11 [==============================] - 0s 7ms/step - loss: 0.2843 - mean_absolute_error: 0.4151 - val_loss: 0.6249 - val_mean_absolute_error: 0.6139\n",
      "Epoch 26/75\n",
      "11/11 [==============================] - 0s 8ms/step - loss: 0.3021 - mean_absolute_error: 0.4315 - val_loss: 0.6258 - val_mean_absolute_error: 0.6138\n",
      "Epoch 27/75\n",
      "11/11 [==============================] - 0s 9ms/step - loss: 0.2856 - mean_absolute_error: 0.4169 - val_loss: 0.5978 - val_mean_absolute_error: 0.6155\n",
      "Epoch 28/75\n",
      "11/11 [==============================] - 0s 8ms/step - loss: 0.2543 - mean_absolute_error: 0.3888 - val_loss: 0.6538 - val_mean_absolute_error: 0.6479\n",
      "Epoch 29/75\n",
      "11/11 [==============================] - 0s 7ms/step - loss: 0.2800 - mean_absolute_error: 0.4118 - val_loss: 0.6165 - val_mean_absolute_error: 0.6148\n",
      "Epoch 30/75\n",
      "11/11 [==============================] - 0s 7ms/step - loss: 0.2829 - mean_absolute_error: 0.4111 - val_loss: 0.6624 - val_mean_absolute_error: 0.6351\n",
      "Epoch 31/75\n",
      "11/11 [==============================] - 0s 7ms/step - loss: 0.2344 - mean_absolute_error: 0.3702 - val_loss: 0.6402 - val_mean_absolute_error: 0.6233\n",
      "Epoch 32/75\n",
      "11/11 [==============================] - 0s 7ms/step - loss: 0.2154 - mean_absolute_error: 0.3612 - val_loss: 0.6780 - val_mean_absolute_error: 0.6548\n",
      "Epoch 33/75\n",
      "11/11 [==============================] - 0s 7ms/step - loss: 0.1945 - mean_absolute_error: 0.3374 - val_loss: 0.6349 - val_mean_absolute_error: 0.6217\n",
      "Epoch 34/75\n",
      "11/11 [==============================] - 0s 6ms/step - loss: 0.1873 - mean_absolute_error: 0.3324 - val_loss: 0.7072 - val_mean_absolute_error: 0.6557\n",
      "Epoch 35/75\n",
      "11/11 [==============================] - 0s 6ms/step - loss: 0.1869 - mean_absolute_error: 0.3379 - val_loss: 0.6601 - val_mean_absolute_error: 0.6429\n",
      "Epoch 36/75\n",
      "11/11 [==============================] - 0s 7ms/step - loss: 0.1815 - mean_absolute_error: 0.3296 - val_loss: 0.7228 - val_mean_absolute_error: 0.6621\n",
      "Epoch 37/75\n",
      "11/11 [==============================] - 0s 7ms/step - loss: 0.1739 - mean_absolute_error: 0.3215 - val_loss: 0.7066 - val_mean_absolute_error: 0.6544\n",
      "Epoch 38/75\n",
      "11/11 [==============================] - 0s 9ms/step - loss: 0.1798 - mean_absolute_error: 0.3247 - val_loss: 0.7236 - val_mean_absolute_error: 0.6826\n",
      "Epoch 39/75\n",
      "11/11 [==============================] - 0s 10ms/step - loss: 0.1808 - mean_absolute_error: 0.3349 - val_loss: 0.7280 - val_mean_absolute_error: 0.6854\n",
      "Epoch 40/75\n",
      "11/11 [==============================] - 0s 8ms/step - loss: 0.2135 - mean_absolute_error: 0.3676 - val_loss: 0.7201 - val_mean_absolute_error: 0.6904\n",
      "Epoch 41/75\n",
      "11/11 [==============================] - 0s 7ms/step - loss: 0.2028 - mean_absolute_error: 0.3407 - val_loss: 0.6448 - val_mean_absolute_error: 0.6372\n",
      "Epoch 42/75\n",
      "11/11 [==============================] - 0s 7ms/step - loss: 0.1822 - mean_absolute_error: 0.3328 - val_loss: 0.6832 - val_mean_absolute_error: 0.6594\n",
      "Epoch 43/75\n",
      "11/11 [==============================] - 0s 7ms/step - loss: 0.1577 - mean_absolute_error: 0.3008 - val_loss: 0.7351 - val_mean_absolute_error: 0.6886\n",
      "Epoch 44/75\n",
      "11/11 [==============================] - 0s 7ms/step - loss: 0.1425 - mean_absolute_error: 0.2850 - val_loss: 0.7675 - val_mean_absolute_error: 0.7184\n",
      "Epoch 45/75\n",
      "11/11 [==============================] - 0s 7ms/step - loss: 0.1806 - mean_absolute_error: 0.3284 - val_loss: 0.7089 - val_mean_absolute_error: 0.6631\n",
      "Epoch 46/75\n",
      "11/11 [==============================] - 0s 7ms/step - loss: 0.2104 - mean_absolute_error: 0.3518 - val_loss: 0.7197 - val_mean_absolute_error: 0.7092\n",
      "Epoch 47/75\n",
      "11/11 [==============================] - 0s 6ms/step - loss: 0.2024 - mean_absolute_error: 0.3600 - val_loss: 0.7955 - val_mean_absolute_error: 0.7229\n",
      "Epoch 48/75\n",
      "11/11 [==============================] - 0s 7ms/step - loss: 0.1578 - mean_absolute_error: 0.3012 - val_loss: 0.7251 - val_mean_absolute_error: 0.6944\n",
      "Epoch 49/75\n",
      "11/11 [==============================] - 0s 7ms/step - loss: 0.1205 - mean_absolute_error: 0.2638 - val_loss: 0.7534 - val_mean_absolute_error: 0.7087\n",
      "Epoch 50/75\n",
      "11/11 [==============================] - 0s 7ms/step - loss: 0.1128 - mean_absolute_error: 0.2527 - val_loss: 0.7377 - val_mean_absolute_error: 0.6843\n",
      "Epoch 51/75\n",
      "11/11 [==============================] - 0s 9ms/step - loss: 0.1039 - mean_absolute_error: 0.2337 - val_loss: 0.7625 - val_mean_absolute_error: 0.7080\n",
      "Epoch 52/75\n",
      "11/11 [==============================] - 0s 8ms/step - loss: 0.0994 - mean_absolute_error: 0.2345 - val_loss: 0.8132 - val_mean_absolute_error: 0.7274\n",
      "Epoch 53/75\n",
      "11/11 [==============================] - 0s 8ms/step - loss: 0.0938 - mean_absolute_error: 0.2294 - val_loss: 0.7700 - val_mean_absolute_error: 0.6953\n",
      "Epoch 54/75\n",
      "11/11 [==============================] - 0s 7ms/step - loss: 0.0865 - mean_absolute_error: 0.2190 - val_loss: 0.8045 - val_mean_absolute_error: 0.7284\n",
      "Epoch 55/75\n",
      "11/11 [==============================] - 0s 7ms/step - loss: 0.1040 - mean_absolute_error: 0.2511 - val_loss: 0.7473 - val_mean_absolute_error: 0.6888\n",
      "Epoch 56/75\n",
      "11/11 [==============================] - 0s 7ms/step - loss: 0.0974 - mean_absolute_error: 0.2335 - val_loss: 0.8115 - val_mean_absolute_error: 0.7318\n",
      "Epoch 57/75\n",
      "11/11 [==============================] - 0s 7ms/step - loss: 0.0795 - mean_absolute_error: 0.2037 - val_loss: 0.8031 - val_mean_absolute_error: 0.7086\n",
      "Epoch 58/75\n",
      "11/11 [==============================] - 0s 7ms/step - loss: 0.0849 - mean_absolute_error: 0.2157 - val_loss: 0.7556 - val_mean_absolute_error: 0.6856\n",
      "Epoch 59/75\n",
      "11/11 [==============================] - 0s 7ms/step - loss: 0.0942 - mean_absolute_error: 0.2298 - val_loss: 0.8084 - val_mean_absolute_error: 0.7332\n",
      "Epoch 60/75\n",
      "11/11 [==============================] - 0s 7ms/step - loss: 0.0722 - mean_absolute_error: 0.1947 - val_loss: 0.8604 - val_mean_absolute_error: 0.7236\n",
      "Epoch 61/75\n",
      "11/11 [==============================] - 0s 7ms/step - loss: 0.0877 - mean_absolute_error: 0.2247 - val_loss: 0.7691 - val_mean_absolute_error: 0.7024\n",
      "Epoch 62/75\n",
      "11/11 [==============================] - 0s 7ms/step - loss: 0.0710 - mean_absolute_error: 0.1931 - val_loss: 0.8307 - val_mean_absolute_error: 0.7352\n",
      "Epoch 63/75\n",
      "11/11 [==============================] - 0s 8ms/step - loss: 0.0659 - mean_absolute_error: 0.1918 - val_loss: 0.8516 - val_mean_absolute_error: 0.7289\n",
      "Epoch 64/75\n",
      "11/11 [==============================] - 0s 8ms/step - loss: 0.0676 - mean_absolute_error: 0.1970 - val_loss: 0.7994 - val_mean_absolute_error: 0.7151\n",
      "Epoch 65/75\n",
      "11/11 [==============================] - 0s 8ms/step - loss: 0.0653 - mean_absolute_error: 0.1861 - val_loss: 0.8307 - val_mean_absolute_error: 0.7380\n",
      "Epoch 66/75\n",
      "11/11 [==============================] - 0s 7ms/step - loss: 0.0602 - mean_absolute_error: 0.1804 - val_loss: 0.8285 - val_mean_absolute_error: 0.7200\n",
      "Epoch 67/75\n",
      "11/11 [==============================] - 0s 6ms/step - loss: 0.0511 - mean_absolute_error: 0.1620 - val_loss: 0.8461 - val_mean_absolute_error: 0.7444\n",
      "Epoch 68/75\n",
      "11/11 [==============================] - 0s 6ms/step - loss: 0.0543 - mean_absolute_error: 0.1671 - val_loss: 0.8469 - val_mean_absolute_error: 0.7234\n",
      "Epoch 69/75\n",
      "11/11 [==============================] - 0s 6ms/step - loss: 0.0508 - mean_absolute_error: 0.1641 - val_loss: 0.8397 - val_mean_absolute_error: 0.7144\n",
      "Epoch 70/75\n",
      "11/11 [==============================] - 0s 10ms/step - loss: 0.0598 - mean_absolute_error: 0.1865 - val_loss: 0.8682 - val_mean_absolute_error: 0.7443\n",
      "Epoch 71/75\n",
      "11/11 [==============================] - 0s 10ms/step - loss: 0.0588 - mean_absolute_error: 0.1826 - val_loss: 0.8238 - val_mean_absolute_error: 0.7295\n",
      "Epoch 72/75\n",
      "11/11 [==============================] - 0s 10ms/step - loss: 0.0579 - mean_absolute_error: 0.1829 - val_loss: 0.8993 - val_mean_absolute_error: 0.7502\n",
      "Epoch 73/75\n",
      "11/11 [==============================] - 0s 9ms/step - loss: 0.0620 - mean_absolute_error: 0.1915 - val_loss: 0.7740 - val_mean_absolute_error: 0.7073\n",
      "Epoch 74/75\n",
      "11/11 [==============================] - 0s 9ms/step - loss: 0.0495 - mean_absolute_error: 0.1649 - val_loss: 0.8421 - val_mean_absolute_error: 0.7341\n",
      "Epoch 75/75\n",
      "11/11 [==============================] - 0s 8ms/step - loss: 0.0521 - mean_absolute_error: 0.1723 - val_loss: 0.8304 - val_mean_absolute_error: 0.7175\n"
     ]
    }
   ],
   "source": [
    "# Train the model, with some of the data reserved for validation\n",
    "\n",
    "history = model.fit(X_train, y_train, validation_split = .15, epochs = 75, verbose = 1)"
   ]
  },
  {
   "cell_type": "code",
   "execution_count": 15,
   "metadata": {},
   "outputs": [
    {
     "name": "stdout",
     "output_type": "stream",
     "text": [
      "0.6861612796783447 0.6163297295570374\n"
     ]
    }
   ],
   "source": [
    "# Evaluate the model on the test set\n",
    "loss, metric = model.evaluate(X_test, y_test, verbose = 0)\n",
    "print(loss, metric)"
   ]
  },
  {
   "cell_type": "markdown",
   "metadata": {},
   "source": [
    "#### Plot the learning curves"
   ]
  },
  {
   "cell_type": "code",
   "execution_count": 16,
   "metadata": {},
   "outputs": [],
   "source": [
    "import matplotlib.pyplot as plt\n",
    "%matplotlib inline\n",
    "plt.rcParams['figure.figsize'] = (9,7)"
   ]
  },
  {
   "cell_type": "code",
   "execution_count": 17,
   "metadata": {},
   "outputs": [
    {
     "data": {
      "image/png": "[encoded data removed]",
      "text/plain": [
       "<Figure size 648x504 with 1 Axes>"
      ]
     },
     "metadata": {
      "needs_background": "light"
     },
     "output_type": "display_data"
    }
   ],
   "source": [
    "# Plot the training and validation loss\n",
    "\n",
    "plt.plot(history.history['loss'])\n",
    "plt.plot(history.history['val_loss'])\n",
    "plt.title('Loss vs. epochs')\n",
    "plt.ylabel('Loss')\n",
    "plt.xlabel('Epoch')\n",
    "plt.legend(['Training', 'Validation'], loc='upper right')\n",
    "plt.show()"
   ]
  },
  {
   "cell_type": "markdown",
   "metadata": {},
   "source": [
    "***\n",
    "<a id=\"coding_tutorial_2\"></a>\n",
    "## Model regularisation"
   ]
  },
  {
   "cell_type": "markdown",
   "metadata": {},
   "source": [
    "#### Adding regularisation with weight decay and dropout"
   ]
  },
  {
   "cell_type": "code",
   "execution_count": 18,
   "metadata": {},
   "outputs": [],
   "source": [
    "from tensorflow.keras.layers import Dropout\n",
    "from tensorflow.keras import regularizers"
   ]
  },
  {
   "cell_type": "code",
   "execution_count": 19,
   "metadata": {},
   "outputs": [],
   "source": [
    "def get_regularised_model(wd, rate):\n",
    "    model = Sequential([\n",
    "        Dense(128, kernel_regularizer = regularizers.l2(wd), activation=\"relu\", input_shape=(X_train.shape[1],)),\n",
    "        Dropout(rate),\n",
    "        Dense(128, kernel_regularizer = regularizers.l2(wd),activation=\"relu\"),\n",
    "        Dropout(rate),\n",
    "        Dense(128, kernel_regularizer = regularizers.l2(wd),activation=\"relu\"),\n",
    "        Dropout(rate),\n",
    "        Dense(128, kernel_regularizer = regularizers.l2(wd),activation=\"relu\"),\n",
    "        Dropout(rate),\n",
    "        Dense(128, kernel_regularizer = regularizers.l2(wd),activation=\"relu\"),\n",
    "        Dropout(rate),\n",
    "        Dense(128, kernel_regularizer = regularizers.l2(wd),activation=\"relu\"),\n",
    "        Dropout(rate),\n",
    "        Dense(1)\n",
    "    ])\n",
    "    return model"
   ]
  },
  {
   "cell_type": "code",
   "execution_count": 20,
   "metadata": {},
   "outputs": [],
   "source": [
    "# Re-build the model with weight decay and dropout layers\n",
    "\n",
    "model = get_regularised_model(1e-5, 3e-1)"
   ]
  },
  {
   "cell_type": "code",
   "execution_count": 21,
   "metadata": {},
   "outputs": [],
   "source": [
    "# Compile the model\n",
    "\n",
    "model.compile(optimizer = Adam(), loss = mse(), metrics = [mae()])"
   ]
  },
  {
   "cell_type": "code",
   "execution_count": 22,
   "metadata": {
    "collapsed": true
   },
   "outputs": [
    {
     "name": "stdout",
     "output_type": "stream",
     "text": [
      "Epoch 1/75\n",
      "11/11 [==============================] - 2s 35ms/step - loss: 1.0189 - mean_absolute_error: 0.8641 - val_loss: 0.8851 - val_mean_absolute_error: 0.7878\n",
      "Epoch 2/75\n",
      "11/11 [==============================] - 0s 9ms/step - loss: 0.9838 - mean_absolute_error: 0.8546 - val_loss: 0.8431 - val_mean_absolute_error: 0.7767\n",
      "Epoch 3/75\n",
      "11/11 [==============================] - 0s 9ms/step - loss: 0.8324 - mean_absolute_error: 0.7906 - val_loss: 0.7654 - val_mean_absolute_error: 0.7438\n",
      "Epoch 4/75\n",
      "11/11 [==============================] - 0s 10ms/step - loss: 0.7346 - mean_absolute_error: 0.7288 - val_loss: 0.6568 - val_mean_absolute_error: 0.6824\n",
      "Epoch 5/75\n",
      "11/11 [==============================] - 0s 10ms/step - loss: 0.6171 - mean_absolute_error: 0.6624 - val_loss: 0.5816 - val_mean_absolute_error: 0.6382\n",
      "Epoch 6/75\n",
      "11/11 [==============================] - 0s 10ms/step - loss: 0.5793 - mean_absolute_error: 0.6211 - val_loss: 0.5748 - val_mean_absolute_error: 0.6163\n",
      "Epoch 7/75\n",
      "11/11 [==============================] - 0s 9ms/step - loss: 0.5537 - mean_absolute_error: 0.6090 - val_loss: 0.5819 - val_mean_absolute_error: 0.6300\n",
      "Epoch 8/75\n",
      "11/11 [==============================] - 0s 8ms/step - loss: 0.5613 - mean_absolute_error: 0.6149 - val_loss: 0.5910 - val_mean_absolute_error: 0.6187\n",
      "Epoch 9/75\n",
      "11/11 [==============================] - 0s 10ms/step - loss: 0.6019 - mean_absolute_error: 0.6177 - val_loss: 0.5725 - val_mean_absolute_error: 0.6231\n",
      "Epoch 10/75\n",
      "11/11 [==============================] - 0s 9ms/step - loss: 0.5441 - mean_absolute_error: 0.6049 - val_loss: 0.5920 - val_mean_absolute_error: 0.6126\n",
      "Epoch 11/75\n",
      "11/11 [==============================] - 0s 9ms/step - loss: 0.5245 - mean_absolute_error: 0.5851 - val_loss: 0.5853 - val_mean_absolute_error: 0.6310\n",
      "Epoch 12/75\n",
      "11/11 [==============================] - 0s 9ms/step - loss: 0.5799 - mean_absolute_error: 0.6247 - val_loss: 0.5941 - val_mean_absolute_error: 0.6271\n",
      "Epoch 13/75\n",
      "11/11 [==============================] - 0s 9ms/step - loss: 0.5111 - mean_absolute_error: 0.5840 - val_loss: 0.5794 - val_mean_absolute_error: 0.6167\n",
      "Epoch 14/75\n",
      "11/11 [==============================] - 0s 9ms/step - loss: 0.5270 - mean_absolute_error: 0.5837 - val_loss: 0.5782 - val_mean_absolute_error: 0.6096\n",
      "Epoch 15/75\n",
      "11/11 [==============================] - 0s 8ms/step - loss: 0.5157 - mean_absolute_error: 0.5906 - val_loss: 0.5729 - val_mean_absolute_error: 0.6336\n",
      "Epoch 16/75\n",
      "11/11 [==============================] - 0s 9ms/step - loss: 0.4972 - mean_absolute_error: 0.5720 - val_loss: 0.5810 - val_mean_absolute_error: 0.6089\n",
      "Epoch 17/75\n",
      "11/11 [==============================] - 0s 9ms/step - loss: 0.5030 - mean_absolute_error: 0.5631 - val_loss: 0.5732 - val_mean_absolute_error: 0.6131\n",
      "Epoch 18/75\n",
      "11/11 [==============================] - 0s 8ms/step - loss: 0.4977 - mean_absolute_error: 0.5671 - val_loss: 0.5770 - val_mean_absolute_error: 0.6160\n",
      "Epoch 19/75\n",
      "11/11 [==============================] - 0s 9ms/step - loss: 0.5167 - mean_absolute_error: 0.5875 - val_loss: 0.5717 - val_mean_absolute_error: 0.6177\n",
      "Epoch 20/75\n",
      "11/11 [==============================] - 0s 9ms/step - loss: 0.5094 - mean_absolute_error: 0.5689 - val_loss: 0.5816 - val_mean_absolute_error: 0.6183\n",
      "Epoch 21/75\n",
      "11/11 [==============================] - 0s 8ms/step - loss: 0.5012 - mean_absolute_error: 0.5757 - val_loss: 0.5839 - val_mean_absolute_error: 0.6220\n",
      "Epoch 22/75\n",
      "11/11 [==============================] - 0s 8ms/step - loss: 0.5154 - mean_absolute_error: 0.5768 - val_loss: 0.5744 - val_mean_absolute_error: 0.6216\n",
      "Epoch 23/75\n",
      "11/11 [==============================] - 0s 9ms/step - loss: 0.4998 - mean_absolute_error: 0.5720 - val_loss: 0.5906 - val_mean_absolute_error: 0.6148\n",
      "Epoch 24/75\n",
      "11/11 [==============================] - 0s 9ms/step - loss: 0.4715 - mean_absolute_error: 0.5464 - val_loss: 0.5780 - val_mean_absolute_error: 0.6184\n",
      "Epoch 25/75\n",
      "11/11 [==============================] - 0s 9ms/step - loss: 0.4639 - mean_absolute_error: 0.5484 - val_loss: 0.5890 - val_mean_absolute_error: 0.6138\n",
      "Epoch 26/75\n",
      "11/11 [==============================] - 0s 9ms/step - loss: 0.4914 - mean_absolute_error: 0.5583 - val_loss: 0.5738 - val_mean_absolute_error: 0.6129\n",
      "Epoch 27/75\n",
      "11/11 [==============================] - 0s 10ms/step - loss: 0.4742 - mean_absolute_error: 0.5616 - val_loss: 0.5769 - val_mean_absolute_error: 0.6179\n",
      "Epoch 28/75\n",
      "11/11 [==============================] - 0s 8ms/step - loss: 0.4957 - mean_absolute_error: 0.5615 - val_loss: 0.5816 - val_mean_absolute_error: 0.6157\n",
      "Epoch 29/75\n",
      "11/11 [==============================] - 0s 8ms/step - loss: 0.4935 - mean_absolute_error: 0.5641 - val_loss: 0.5681 - val_mean_absolute_error: 0.6219\n",
      "Epoch 30/75\n",
      "11/11 [==============================] - 0s 7ms/step - loss: 0.4906 - mean_absolute_error: 0.5617 - val_loss: 0.5776 - val_mean_absolute_error: 0.6115\n",
      "Epoch 31/75\n",
      "11/11 [==============================] - 0s 8ms/step - loss: 0.4675 - mean_absolute_error: 0.5432 - val_loss: 0.5722 - val_mean_absolute_error: 0.6243\n",
      "Epoch 32/75\n",
      "11/11 [==============================] - 0s 8ms/step - loss: 0.4719 - mean_absolute_error: 0.5569 - val_loss: 0.5834 - val_mean_absolute_error: 0.6113\n",
      "Epoch 33/75\n",
      "11/11 [==============================] - 0s 9ms/step - loss: 0.4701 - mean_absolute_error: 0.5600 - val_loss: 0.5674 - val_mean_absolute_error: 0.6133\n",
      "Epoch 34/75\n",
      "11/11 [==============================] - 0s 8ms/step - loss: 0.4594 - mean_absolute_error: 0.5435 - val_loss: 0.5801 - val_mean_absolute_error: 0.6136\n",
      "Epoch 35/75\n",
      "11/11 [==============================] - 0s 8ms/step - loss: 0.4935 - mean_absolute_error: 0.5639 - val_loss: 0.5895 - val_mean_absolute_error: 0.6319\n",
      "Epoch 36/75\n",
      "11/11 [==============================] - 0s 7ms/step - loss: 0.4657 - mean_absolute_error: 0.5407 - val_loss: 0.5871 - val_mean_absolute_error: 0.6192\n",
      "Epoch 37/75\n",
      "11/11 [==============================] - 0s 8ms/step - loss: 0.4456 - mean_absolute_error: 0.5302 - val_loss: 0.5807 - val_mean_absolute_error: 0.6173\n",
      "Epoch 38/75\n",
      "11/11 [==============================] - 0s 7ms/step - loss: 0.4619 - mean_absolute_error: 0.5485 - val_loss: 0.5784 - val_mean_absolute_error: 0.6330\n",
      "Epoch 39/75\n",
      "11/11 [==============================] - 0s 7ms/step - loss: 0.4460 - mean_absolute_error: 0.5453 - val_loss: 0.5946 - val_mean_absolute_error: 0.6072\n",
      "Epoch 40/75\n",
      "11/11 [==============================] - 0s 6ms/step - loss: 0.4564 - mean_absolute_error: 0.5458 - val_loss: 0.5736 - val_mean_absolute_error: 0.6207\n",
      "Epoch 41/75\n",
      "11/11 [==============================] - 0s 7ms/step - loss: 0.4605 - mean_absolute_error: 0.5416 - val_loss: 0.5701 - val_mean_absolute_error: 0.6155\n",
      "Epoch 42/75\n",
      "11/11 [==============================] - 0s 7ms/step - loss: 0.4740 - mean_absolute_error: 0.5542 - val_loss: 0.5946 - val_mean_absolute_error: 0.6146\n",
      "Epoch 43/75\n",
      "11/11 [==============================] - 0s 7ms/step - loss: 0.4528 - mean_absolute_error: 0.5406 - val_loss: 0.5847 - val_mean_absolute_error: 0.6236\n",
      "Epoch 44/75\n",
      "11/11 [==============================] - 0s 6ms/step - loss: 0.4551 - mean_absolute_error: 0.5514 - val_loss: 0.5764 - val_mean_absolute_error: 0.6191\n",
      "Epoch 45/75\n",
      "11/11 [==============================] - 0s 7ms/step - loss: 0.4394 - mean_absolute_error: 0.5261 - val_loss: 0.5843 - val_mean_absolute_error: 0.6052\n",
      "Epoch 46/75\n",
      "11/11 [==============================] - 0s 7ms/step - loss: 0.4576 - mean_absolute_error: 0.5408 - val_loss: 0.5713 - val_mean_absolute_error: 0.6113\n",
      "Epoch 47/75\n",
      "11/11 [==============================] - 0s 7ms/step - loss: 0.4303 - mean_absolute_error: 0.5227 - val_loss: 0.5817 - val_mean_absolute_error: 0.6130\n",
      "Epoch 48/75\n",
      "11/11 [==============================] - 0s 11ms/step - loss: 0.4276 - mean_absolute_error: 0.5191 - val_loss: 0.5980 - val_mean_absolute_error: 0.6171\n",
      "Epoch 49/75\n",
      "11/11 [==============================] - 0s 10ms/step - loss: 0.4499 - mean_absolute_error: 0.5361 - val_loss: 0.5991 - val_mean_absolute_error: 0.6163\n",
      "Epoch 50/75\n",
      "11/11 [==============================] - 0s 8ms/step - loss: 0.4280 - mean_absolute_error: 0.5250 - val_loss: 0.5967 - val_mean_absolute_error: 0.6314\n",
      "Epoch 51/75\n",
      "11/11 [==============================] - 0s 9ms/step - loss: 0.4135 - mean_absolute_error: 0.5205 - val_loss: 0.6003 - val_mean_absolute_error: 0.6185\n",
      "Epoch 52/75\n",
      "11/11 [==============================] - 0s 10ms/step - loss: 0.4139 - mean_absolute_error: 0.4985 - val_loss: 0.5809 - val_mean_absolute_error: 0.6133\n",
      "Epoch 53/75\n",
      "11/11 [==============================] - 0s 9ms/step - loss: 0.4278 - mean_absolute_error: 0.5246 - val_loss: 0.5965 - val_mean_absolute_error: 0.6176\n",
      "Epoch 54/75\n",
      "11/11 [==============================] - 0s 9ms/step - loss: 0.4240 - mean_absolute_error: 0.5091 - val_loss: 0.5933 - val_mean_absolute_error: 0.6218\n",
      "Epoch 55/75\n",
      "11/11 [==============================] - 0s 9ms/step - loss: 0.3991 - mean_absolute_error: 0.5043 - val_loss: 0.5903 - val_mean_absolute_error: 0.6283\n",
      "Epoch 56/75\n",
      "11/11 [==============================] - 0s 8ms/step - loss: 0.4326 - mean_absolute_error: 0.5197 - val_loss: 0.5816 - val_mean_absolute_error: 0.6165\n",
      "Epoch 57/75\n",
      "11/11 [==============================] - 0s 7ms/step - loss: 0.4243 - mean_absolute_error: 0.5218 - val_loss: 0.5943 - val_mean_absolute_error: 0.6200\n",
      "Epoch 58/75\n",
      "11/11 [==============================] - 0s 8ms/step - loss: 0.4313 - mean_absolute_error: 0.5225 - val_loss: 0.5764 - val_mean_absolute_error: 0.6103\n",
      "Epoch 59/75\n",
      "11/11 [==============================] - 0s 7ms/step - loss: 0.4187 - mean_absolute_error: 0.5144 - val_loss: 0.5860 - val_mean_absolute_error: 0.6230\n",
      "Epoch 60/75\n",
      "11/11 [==============================] - 0s 8ms/step - loss: 0.4146 - mean_absolute_error: 0.5137 - val_loss: 0.5876 - val_mean_absolute_error: 0.5998\n",
      "Epoch 61/75\n",
      "11/11 [==============================] - 0s 7ms/step - loss: 0.3961 - mean_absolute_error: 0.4994 - val_loss: 0.5630 - val_mean_absolute_error: 0.5996\n",
      "Epoch 62/75\n",
      "11/11 [==============================] - 0s 8ms/step - loss: 0.4225 - mean_absolute_error: 0.5164 - val_loss: 0.5756 - val_mean_absolute_error: 0.6046\n",
      "Epoch 63/75\n",
      "11/11 [==============================] - 0s 7ms/step - loss: 0.4235 - mean_absolute_error: 0.5126 - val_loss: 0.5987 - val_mean_absolute_error: 0.6208\n",
      "Epoch 64/75\n",
      "11/11 [==============================] - 0s 8ms/step - loss: 0.4125 - mean_absolute_error: 0.5116 - val_loss: 0.5970 - val_mean_absolute_error: 0.6089\n",
      "Epoch 65/75\n",
      "11/11 [==============================] - 0s 8ms/step - loss: 0.4126 - mean_absolute_error: 0.5116 - val_loss: 0.5567 - val_mean_absolute_error: 0.6013\n",
      "Epoch 66/75\n",
      "11/11 [==============================] - 0s 9ms/step - loss: 0.4219 - mean_absolute_error: 0.5187 - val_loss: 0.5650 - val_mean_absolute_error: 0.6063\n",
      "Epoch 67/75\n",
      "11/11 [==============================] - 0s 8ms/step - loss: 0.3868 - mean_absolute_error: 0.4877 - val_loss: 0.5808 - val_mean_absolute_error: 0.6075\n",
      "Epoch 68/75\n",
      "11/11 [==============================] - 0s 9ms/step - loss: 0.4017 - mean_absolute_error: 0.5048 - val_loss: 0.5764 - val_mean_absolute_error: 0.6062\n",
      "Epoch 69/75\n",
      "11/11 [==============================] - 0s 8ms/step - loss: 0.4123 - mean_absolute_error: 0.5205 - val_loss: 0.5937 - val_mean_absolute_error: 0.5996\n",
      "Epoch 70/75\n",
      "11/11 [==============================] - 0s 7ms/step - loss: 0.4115 - mean_absolute_error: 0.5090 - val_loss: 0.5628 - val_mean_absolute_error: 0.6064\n",
      "Epoch 71/75\n",
      "11/11 [==============================] - 0s 8ms/step - loss: 0.3995 - mean_absolute_error: 0.4990 - val_loss: 0.5595 - val_mean_absolute_error: 0.6018\n",
      "Epoch 72/75\n",
      "11/11 [==============================] - 0s 8ms/step - loss: 0.3568 - mean_absolute_error: 0.4668 - val_loss: 0.5705 - val_mean_absolute_error: 0.6139\n",
      "Epoch 73/75\n",
      "11/11 [==============================] - 0s 7ms/step - loss: 0.4101 - mean_absolute_error: 0.5125 - val_loss: 0.5661 - val_mean_absolute_error: 0.6120\n",
      "Epoch 74/75\n",
      "11/11 [==============================] - 0s 7ms/step - loss: 0.4124 - mean_absolute_error: 0.5122 - val_loss: 0.5737 - val_mean_absolute_error: 0.6093\n",
      "Epoch 75/75\n",
      "11/11 [==============================] - 0s 8ms/step - loss: 0.3556 - mean_absolute_error: 0.4846 - val_loss: 0.5704 - val_mean_absolute_error: 0.5985\n"
     ]
    }
   ],
   "source": [
    "# Train the model, with some of the data reserved for validation\n",
    "\n",
    "history = model.fit(X_train, y_train, validation_split = .15, epochs = 75, verbose = 1)"
   ]
  },
  {
   "cell_type": "code",
   "execution_count": 23,
   "metadata": {},
   "outputs": [
    {
     "name": "stdout",
     "output_type": "stream",
     "text": [
      "0.4139510691165924 0.47680631279945374\n"
     ]
    }
   ],
   "source": [
    "# Evaluate the model on the test set\n",
    "loss, metric = model.evaluate(X_test, y_test, verbose = 0)\n",
    "print(loss, metric)"
   ]
  },
  {
   "cell_type": "markdown",
   "metadata": {},
   "source": [
    "#### Plot the learning curves"
   ]
  },
  {
   "cell_type": "code",
   "execution_count": 24,
   "metadata": {},
   "outputs": [
    {
     "data": {
      "image/png": "[encoded data removed]",
      "text/plain": [
       "<Figure size 648x504 with 1 Axes>"
      ]
     },
     "metadata": {
      "needs_background": "light"
     },
     "output_type": "display_data"
    }
   ],
   "source": [
    "# Plot the training and validation loss\n",
    "\n",
    "import matplotlib.pyplot as plt\n",
    "\n",
    "plt.plot(history.history['loss'])\n",
    "plt.plot(history.history['val_loss'])\n",
    "plt.title('Loss vs. epochs')\n",
    "plt.ylabel('Loss')\n",
    "plt.xlabel('Epoch')\n",
    "plt.legend(['Training', 'Validation'], loc='upper right')\n",
    "plt.show()"
   ]
  },
  {
   "cell_type": "markdown",
   "metadata": {},
   "source": [
    "***\n",
    "<a id=\"coding_tutorial_3\"></a>\n",
    "##  callbacks"
   ]
  },
  {
   "cell_type": "markdown",
   "metadata": {},
   "source": [
    "#### Example training callback"
   ]
  },
  {
   "cell_type": "code",
   "execution_count": 26,
   "metadata": {},
   "outputs": [],
   "source": [
    "# Write a custom callback\n",
    "from tensorflow.keras.callbacks import Callback\n",
    "class TrainingCallback(Callback):\n",
    "    def on_train_begin(self, logs = None):\n",
    "        print('Starting Training...')\n",
    "        \n",
    "    def on_epoch_begin(self, epoch, logs = None):\n",
    "        print(f\"Starting epoch {epoch}\")\n",
    "    \n",
    "    def on_train_batch_start(self, batch, logs = None):\n",
    "        print(f\"Training: Starting batch {batch}\")\n",
    "        \n",
    "    def on_train_batch_end(self, batch, logs = None):\n",
    "        print(f\"Training: Finished batch {batch}\")\n",
    "        \n",
    "    def on_epoch_end(self, epoch, logs = None):\n",
    "        print(f\"Finished epoch {epoch}\")\n",
    "        \n",
    "    def on_train_end(self, logs = None):\n",
    "        print('Finished Training...')"
   ]
  },
  {
   "cell_type": "code",
   "execution_count": 27,
   "metadata": {},
   "outputs": [],
   "source": [
    "# Re-build the model\n",
    "\n",
    "model = get_regularised_model(1e-5, 3e-1)"
   ]
  },
  {
   "cell_type": "code",
   "execution_count": 28,
   "metadata": {},
   "outputs": [],
   "source": [
    "# Compile the model\n",
    "\n",
    "model.compile(optimizer = Adam(), loss = mse())"
   ]
  },
  {
   "cell_type": "markdown",
   "metadata": {},
   "source": [
    "#### Train the model with the callback"
   ]
  },
  {
   "cell_type": "code",
   "execution_count": 30,
   "metadata": {},
   "outputs": [
    {
     "data": {
      "text/plain": [
       "384"
      ]
     },
     "execution_count": 30,
     "metadata": {},
     "output_type": "execute_result"
    }
   ],
   "source": [
    "128*3"
   ]
  },
  {
   "cell_type": "code",
   "execution_count": 31,
   "metadata": {},
   "outputs": [
    {
     "data": {
      "text/plain": [
       "397"
      ]
     },
     "execution_count": 31,
     "metadata": {},
     "output_type": "execute_result"
    }
   ],
   "source": [
    "X_train.shape[0]"
   ]
  },
  {
   "cell_type": "code",
   "execution_count": 29,
   "metadata": {},
   "outputs": [
    {
     "name": "stdout",
     "output_type": "stream",
     "text": [
      "Starting Training...\n",
      "Starting epoch 0\n",
      "Training: Finished batch 0\n",
      "Training: Finished batch 1\n",
      "Training: Finished batch 2\n",
      "Training: Finished batch 3\n",
      "Finished epoch 0\n",
      "Starting epoch 1\n",
      "Training: Finished batch 0\n",
      "Training: Finished batch 1\n",
      "Training: Finished batch 2\n",
      "Training: Finished batch 3\n",
      "Finished epoch 1\n",
      "Starting epoch 2\n",
      "Training: Finished batch 0\n",
      "Training: Finished batch 1\n",
      "Training: Finished batch 2\n",
      "Training: Finished batch 3\n",
      "Finished epoch 2\n",
      "Finished Training...\n"
     ]
    }
   ],
   "source": [
    "# Train the model, with some of the data reserved for validation\n",
    "\n",
    "history = model.fit(X_train, y_train, batch_size=128, epochs = 3, verbose = 0, callbacks=[TrainingCallback()])"
   ]
  },
  {
   "cell_type": "markdown",
   "metadata": {},
   "source": [
    "***\n",
    "<a id=\"coding_tutorial_4\"></a>\n",
    "## Early stopping / patience"
   ]
  },
  {
   "cell_type": "markdown",
   "metadata": {},
   "source": [
    "#### Re-train the models with early stopping"
   ]
  },
  {
   "cell_type": "code",
   "execution_count": 47,
   "metadata": {},
   "outputs": [],
   "source": [
    "# Re-train the unregularised model\n",
    "\n",
    "unregularised_model = get_model()\n",
    "unregularised_model.compile(optimizer=\"adam\", loss=\"mse\")\n",
    "unreg_history = unregularised_model.fit(X_train, y_train, epochs=100,\n",
    "                                     validation_split = 0.15, batch_size=64, verbose = False,\n",
    "                                     callbacks=[tf.keras.callbacks.EarlyStopping(patience=2)])"
   ]
  },
  {
   "cell_type": "code",
   "execution_count": 34,
   "metadata": {},
   "outputs": [
    {
     "name": "stdout",
     "output_type": "stream",
     "text": [
      "2/2 - 0s - loss: 0.7468 - 40ms/epoch - 20ms/step\n"
     ]
    },
    {
     "data": {
      "text/plain": [
       "0.7468023300170898"
      ]
     },
     "execution_count": 34,
     "metadata": {},
     "output_type": "execute_result"
    }
   ],
   "source": [
    "# Evaluate the model on the test set\n",
    "\n",
    "unregularised_model.evaluate(X_test, y_test, verbose=2)"
   ]
  },
  {
   "cell_type": "code",
   "execution_count": 48,
   "metadata": {},
   "outputs": [],
   "source": [
    "# Re-train the regularised model\n",
    "regularised_model = get_regularised_model(1e-8, 2e-1)\n",
    "\n",
    "regularised_model.compile(optimizer=\"adam\", loss=\"mse\")\n",
    "\n",
    "reg_history = unregularised_model.fit(X_train, y_train, epochs=100,\n",
    "                                     validation_split = 0.15, batch_size=64, verbose = False,\n",
    "                                     callbacks=[tf.keras.callbacks.EarlyStopping(patience=2)])"
   ]
  },
  {
   "cell_type": "code",
   "execution_count": 36,
   "metadata": {},
   "outputs": [
    {
     "name": "stdout",
     "output_type": "stream",
     "text": [
      "2/2 - 0s - loss: 1.0316 - 378ms/epoch - 189ms/step\n"
     ]
    },
    {
     "data": {
      "text/plain": [
       "1.031616449356079"
      ]
     },
     "execution_count": 36,
     "metadata": {},
     "output_type": "execute_result"
    }
   ],
   "source": [
    "# Evaluate the model on the test set\n",
    "\n",
    "regularised_model.evaluate(X_test, y_test, verbose=2)"
   ]
  },
  {
   "cell_type": "markdown",
   "metadata": {},
   "source": [
    "#### Plot the learning curves"
   ]
  },
  {
   "cell_type": "code",
   "execution_count": 49,
   "metadata": {},
   "outputs": [
    {
     "data": {
      "image/png": "[encoded data removed]",
      "text/plain": [
       "<Figure size 864x360 with 2 Axes>"
      ]
     },
     "metadata": {
      "needs_background": "light"
     },
     "output_type": "display_data"
    }
   ],
   "source": [
    "# Plot the training and validation loss\n",
    "\n",
    "import matplotlib.pyplot as plt\n",
    "\n",
    "fig = plt.figure(figsize=(12, 5))\n",
    "\n",
    "fig.add_subplot(121)\n",
    "\n",
    "plt.plot(unreg_history.history['loss'])\n",
    "plt.plot(unreg_history.history['val_loss'])\n",
    "plt.title('Unregularised model: loss vs. epochs')\n",
    "plt.ylabel('Loss')\n",
    "plt.xlabel('Epoch')\n",
    "plt.legend(['Training', 'Validation'], loc='upper right')\n",
    "\n",
    "fig.add_subplot(122)\n",
    "\n",
    "plt.plot(reg_history.history['loss'])\n",
    "plt.plot(reg_history.history['val_loss'])\n",
    "plt.title('Regularised model: loss vs. epochs')\n",
    "plt.ylabel('Loss')\n",
    "plt.xlabel('Epoch')\n",
    "plt.legend(['Training', 'Validation'], loc='upper right')\n",
    "\n",
    "plt.show()"
   ]
  },
  {
   "cell_type": "code",
   "execution_count": 43,
   "metadata": {},
   "outputs": [
    {
     "data": {
      "image/png": "[encoded data removed]",
      "text/plain": [
       "<Figure size 864x360 with 2 Axes>"
      ]
     },
     "metadata": {
      "needs_background": "light"
     },
     "output_type": "display_data"
    }
   ],
   "source": [
    "# Plot the training and validation loss\n",
    "\n",
    "import matplotlib.pyplot as plt\n",
    "\n",
    "fig = plt.figure(figsize=(12, 5))\n",
    "\n",
    "fig.add_subplot(121)\n",
    "\n",
    "plt.plot(unreg_history.history['loss'])\n",
    "plt.plot(unreg_history.history['val_loss'])\n",
    "plt.title('Unregularised model: loss vs. epochs')\n",
    "plt.ylabel('Loss')\n",
    "plt.xlabel('Epoch')\n",
    "plt.legend(['Training', 'Validation'], loc='upper right')\n",
    "\n",
    "fig.add_subplot(122)\n",
    "\n",
    "plt.plot(reg_history.history['loss'])\n",
    "plt.plot(reg_history.history['val_loss'])\n",
    "plt.title('Regularised model: loss vs. epochs')\n",
    "plt.ylabel('Loss')\n",
    "plt.xlabel('Epoch')\n",
    "plt.legend(['Training', 'Validation'], loc='upper right')\n",
    "\n",
    "plt.show()"
   ]
  }
 ],
 "metadata": {
  "kernelspec": {
   "display_name": "Python 3 (ipykernel)",
   "language": "python",
   "name": "python3"
  },
  "language_info": {
   "codemirror_mode": {
    "name": "ipython",
    "version": 3
   },
   "file_extension": ".py",
   "mimetype": "text/x-python",
   "name": "python",
   "nbconvert_exporter": "python",
   "pygments_lexer": "ipython3",
   "version": "3.9.7"
  }
 },
 "nbformat": 4,
 "nbformat_minor": 2
}
